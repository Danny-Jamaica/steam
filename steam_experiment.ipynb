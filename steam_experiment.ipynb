{
 "cells": [
  {
   "cell_type": "code",
   "execution_count": 18,
   "metadata": {},
   "outputs": [
    {
     "data": {
      "text/plain": [
       "{'player': {'steamid': '76561198350874992',\n",
       "  'communityvisibilitystate': 3,\n",
       "  'profilestate': 1,\n",
       "  'personaname': 'DannyJamaica',\n",
       "  'profileurl': 'https://steamcommunity.com/profiles/76561198350874992/',\n",
       "  'avatar': 'https://avatars.steamstatic.com/c165f4a4193eea123b4e7ffbdc93d7071e5126a9.jpg',\n",
       "  'avatarmedium': 'https://avatars.steamstatic.com/c165f4a4193eea123b4e7ffbdc93d7071e5126a9_medium.jpg',\n",
       "  'avatarfull': 'https://avatars.steamstatic.com/c165f4a4193eea123b4e7ffbdc93d7071e5126a9_full.jpg',\n",
       "  'avatarhash': 'c165f4a4193eea123b4e7ffbdc93d7071e5126a9',\n",
       "  'lastlogoff': 1722204533,\n",
       "  'personastate': 0,\n",
       "  'realname': 'Danny',\n",
       "  'primaryclanid': '103582791429521408',\n",
       "  'timecreated': 1481526346,\n",
       "  'personastateflags': 0,\n",
       "  'loccountrycode': 'CO'}}"
      ]
     },
     "execution_count": 18,
     "metadata": {},
     "output_type": "execute_result"
    }
   ],
   "source": [
    "import os\n",
    "from steam_web_api import Steam\n",
    "\n",
    "KEY = os.environ.get(\"MY_API_KEY\")\n",
    "\n",
    "steam = Steam(KEY)\n",
    "\n",
    "# arguments: steamid\n",
    "user = steam.users.get_user_details(\"76561198350874992\")\n",
    "user"
   ]
  },
  {
   "cell_type": "code",
   "execution_count": 20,
   "metadata": {},
   "outputs": [
    {
     "data": {
      "text/plain": [
       "{'friends': [{'steamid': '76561199011315338',\n",
       "   'communityvisibilitystate': 3,\n",
       "   'profilestate': 1,\n",
       "   'personaname': 'juan quevedo',\n",
       "   'profileurl': 'https://steamcommunity.com/profiles/76561199011315338/',\n",
       "   'avatar': 'https://avatars.steamstatic.com/fef49e7fa7e1997310d705b2a6158ff8dc1cdfeb.jpg',\n",
       "   'avatarmedium': 'https://avatars.steamstatic.com/fef49e7fa7e1997310d705b2a6158ff8dc1cdfeb_medium.jpg',\n",
       "   'avatarfull': 'https://avatars.steamstatic.com/fef49e7fa7e1997310d705b2a6158ff8dc1cdfeb_full.jpg',\n",
       "   'avatarhash': 'fef49e7fa7e1997310d705b2a6158ff8dc1cdfeb',\n",
       "   'lastlogoff': 1721952129,\n",
       "   'personastate': 0,\n",
       "   'primaryclanid': '103582791429521408',\n",
       "   'timecreated': 1576604001,\n",
       "   'personastateflags': 0,\n",
       "   'relationship': 'friend',\n",
       "   'friend_since': 1581535327},\n",
       "  {'steamid': '76561198140556569',\n",
       "   'communityvisibilitystate': 3,\n",
       "   'profilestate': 1,\n",
       "   'personaname': 'Sebatja',\n",
       "   'commentpermission': 1,\n",
       "   'profileurl': 'https://steamcommunity.com/profiles/76561198140556569/',\n",
       "   'avatar': 'https://avatars.steamstatic.com/82049dbbe85d8c9b98d6b91f046b30026dc79427.jpg',\n",
       "   'avatarmedium': 'https://avatars.steamstatic.com/82049dbbe85d8c9b98d6b91f046b30026dc79427_medium.jpg',\n",
       "   'avatarfull': 'https://avatars.steamstatic.com/82049dbbe85d8c9b98d6b91f046b30026dc79427_full.jpg',\n",
       "   'avatarhash': '82049dbbe85d8c9b98d6b91f046b30026dc79427',\n",
       "   'lastlogoff': 1722187915,\n",
       "   'personastate': 0,\n",
       "   'realname': 'SEBASTIAN',\n",
       "   'primaryclanid': '103582791429521408',\n",
       "   'timecreated': 1402772829,\n",
       "   'personastateflags': 0,\n",
       "   'loccountrycode': 'CO',\n",
       "   'relationship': 'friend',\n",
       "   'friend_since': 1690076740},\n",
       "  {'steamid': '76561198297136724',\n",
       "   'communityvisibilitystate': 3,\n",
       "   'profilestate': 1,\n",
       "   'personaname': 'Dasad555',\n",
       "   'profileurl': 'https://steamcommunity.com/profiles/76561198297136724/',\n",
       "   'avatar': 'https://avatars.steamstatic.com/a956d1cfd21b214afc5e5b3077c248e8172b1fa0.jpg',\n",
       "   'avatarmedium': 'https://avatars.steamstatic.com/a956d1cfd21b214afc5e5b3077c248e8172b1fa0_medium.jpg',\n",
       "   'avatarfull': 'https://avatars.steamstatic.com/a956d1cfd21b214afc5e5b3077c248e8172b1fa0_full.jpg',\n",
       "   'avatarhash': 'a956d1cfd21b214afc5e5b3077c248e8172b1fa0',\n",
       "   'lastlogoff': 1719840204,\n",
       "   'personastate': 0,\n",
       "   'realname': 'David L nieto',\n",
       "   'primaryclanid': '103582791458316602',\n",
       "   'timecreated': 1460271243,\n",
       "   'personastateflags': 0,\n",
       "   'loccountrycode': 'CO',\n",
       "   'relationship': 'friend',\n",
       "   'friend_since': 1608956514},\n",
       "  {'steamid': '76561198963956213',\n",
       "   'communityvisibilitystate': 3,\n",
       "   'profilestate': 1,\n",
       "   'personaname': 'estebann_2',\n",
       "   'profileurl': 'https://steamcommunity.com/id/estebann_2/',\n",
       "   'avatar': 'https://avatars.steamstatic.com/6d80675efea7eeb463ee51af7bac1c7dd67860bc.jpg',\n",
       "   'avatarmedium': 'https://avatars.steamstatic.com/6d80675efea7eeb463ee51af7bac1c7dd67860bc_medium.jpg',\n",
       "   'avatarfull': 'https://avatars.steamstatic.com/6d80675efea7eeb463ee51af7bac1c7dd67860bc_full.jpg',\n",
       "   'avatarhash': '6d80675efea7eeb463ee51af7bac1c7dd67860bc',\n",
       "   'lastlogoff': 1690502497,\n",
       "   'personastate': 0,\n",
       "   'realname': 'Esteban Caicedo',\n",
       "   'primaryclanid': '103582791429521408',\n",
       "   'timecreated': 1557704407,\n",
       "   'personastateflags': 0,\n",
       "   'loccountrycode': 'CO',\n",
       "   'relationship': 'friend',\n",
       "   'friend_since': 1646011552},\n",
       "  {'steamid': '76561198155178785',\n",
       "   'communityvisibilitystate': 3,\n",
       "   'profilestate': 1,\n",
       "   'personaname': 'DogeGamer',\n",
       "   'profileurl': 'https://steamcommunity.com/profiles/76561198155178785/',\n",
       "   'avatar': 'https://avatars.steamstatic.com/56f38b91a890f8456172fe7cb99d8f8dc72892a9.jpg',\n",
       "   'avatarmedium': 'https://avatars.steamstatic.com/56f38b91a890f8456172fe7cb99d8f8dc72892a9_medium.jpg',\n",
       "   'avatarfull': 'https://avatars.steamstatic.com/56f38b91a890f8456172fe7cb99d8f8dc72892a9_full.jpg',\n",
       "   'avatarhash': '56f38b91a890f8456172fe7cb99d8f8dc72892a9',\n",
       "   'lastlogoff': 1721608050,\n",
       "   'personastate': 1,\n",
       "   'realname': 'Daniel Felipe',\n",
       "   'primaryclanid': '103582791429521408',\n",
       "   'timecreated': 1411189586,\n",
       "   'personastateflags': 0,\n",
       "   'relationship': 'friend',\n",
       "   'friend_since': 1633138939},\n",
       "  {'steamid': '76561198272945463',\n",
       "   'communityvisibilitystate': 3,\n",
       "   'profilestate': 1,\n",
       "   'personaname': 'TheChocoRamo',\n",
       "   'profileurl': 'https://steamcommunity.com/profiles/76561198272945463/',\n",
       "   'avatar': 'https://avatars.steamstatic.com/9ed5840bdc85129c99d611ce0e2f1425389bb160.jpg',\n",
       "   'avatarmedium': 'https://avatars.steamstatic.com/9ed5840bdc85129c99d611ce0e2f1425389bb160_medium.jpg',\n",
       "   'avatarfull': 'https://avatars.steamstatic.com/9ed5840bdc85129c99d611ce0e2f1425389bb160_full.jpg',\n",
       "   'avatarhash': '9ed5840bdc85129c99d611ce0e2f1425389bb160',\n",
       "   'lastlogoff': 1718122715,\n",
       "   'personastate': 0,\n",
       "   'realname': 'Juan David Amorocho',\n",
       "   'primaryclanid': '103582791429521408',\n",
       "   'timecreated': 1451335340,\n",
       "   'personastateflags': 0,\n",
       "   'loccountrycode': 'CO',\n",
       "   'relationship': 'friend',\n",
       "   'friend_since': 1525546037}]}"
      ]
     },
     "execution_count": 20,
     "metadata": {},
     "output_type": "execute_result"
    }
   ],
   "source": [
    "user = steam.users.get_user_friends_list(\"76561198350874992\")\n",
    "user"
   ]
  },
  {
   "cell_type": "code",
   "execution_count": null,
   "metadata": {},
   "outputs": [],
   "source": []
  }
 ],
 "metadata": {
  "kernelspec": {
   "display_name": "Python (myenv)",
   "language": "python",
   "name": "myenv"
  },
  "language_info": {
   "codemirror_mode": {
    "name": "ipython",
    "version": 3
   },
   "file_extension": ".py",
   "mimetype": "text/x-python",
   "name": "python",
   "nbconvert_exporter": "python",
   "pygments_lexer": "ipython3",
   "version": "3.9.13"
  },
  "vscode": {
   "interpreter": {
    "hash": "916dbcbb3f70747c44a77c7bcd40155683ae19c65e1c03b4aa3499c5328201f1"
   }
  }
 },
 "nbformat": 4,
 "nbformat_minor": 2
}
